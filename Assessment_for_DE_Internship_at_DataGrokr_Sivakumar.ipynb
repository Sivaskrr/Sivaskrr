{
  "nbformat": 4,
  "nbformat_minor": 0,
  "metadata": {
    "colab": {
      "name": "Assessment for DE Internship at DataGrokr - Sivakumar",
      "provenance": [],
      "collapsed_sections": [],
      "toc_visible": true,
      "authorship_tag": "ABX9TyPaTcWkyKKR/mzt4vx/upjt",
      "include_colab_link": true
    },
    "kernelspec": {
      "name": "python3",
      "display_name": "Python 3"
    },
    "language_info": {
      "name": "python"
    }
  },
  "cells": [
    {
      "cell_type": "markdown",
      "metadata": {
        "id": "view-in-github",
        "colab_type": "text"
      },
      "source": [
        "<a href=\"https://colab.research.google.com/github/Sivaskrr/Sivaskrr/blob/main/Assessment_for_DE_Internship_at_DataGrokr_Sivakumar.ipynb\" target=\"_parent\"><img src=\"https://colab.research.google.com/assets/colab-badge.svg\" alt=\"Open In Colab\"/></a>"
      ]
    },
    {
      "cell_type": "code",
      "execution_count": null,
      "metadata": {
        "id": "hHrHvPAljRnd"
      },
      "outputs": [],
      "source": [
        "!apt-get install openjdk-8-jdk-headless -qq > /dev/null"
      ]
    },
    {
      "cell_type": "code",
      "source": [
        "!wget -q https://archive.apache.org/dist/spark/spark-3.1.2/spark-3.1.2-bin-hadoop2.7.tgz"
      ],
      "metadata": {
        "id": "Lm_xdYS7j6g-"
      },
      "execution_count": null,
      "outputs": []
    },
    {
      "cell_type": "code",
      "source": [
        "!tar xf spark-3.1.2-bin-hadoop2.7.tgz"
      ],
      "metadata": {
        "id": "f2xkg9fgoPHf"
      },
      "execution_count": null,
      "outputs": []
    },
    {
      "cell_type": "code",
      "source": [
        "import os\n",
        "os.environ[\"JAVA_HOME\"] = \"/usr/lib/jvm/java-8-openjdk-amd64\"\n",
        "os.environ[\"SPARK_HOME\"] = \"/content/spark-3.1.2-bin-hadoop2.7\""
      ],
      "metadata": {
        "id": "_CGozJH0orkk"
      },
      "execution_count": null,
      "outputs": []
    },
    {
      "cell_type": "code",
      "source": [
        "!pip install -q findspark\n",
        "import findspark\n",
        "findspark.init()"
      ],
      "metadata": {
        "id": "eA1ec5Z6ozJQ"
      },
      "execution_count": null,
      "outputs": []
    },
    {
      "cell_type": "code",
      "source": [
        "from pyspark.sql import SparkSession\n",
        "spark = (SparkSession\n",
        " .builder\n",
        " .appName(\"<app_name>\")\n",
        " .getOrCreate())"
      ],
      "metadata": {
        "id": "CEVSE90OpjTC"
      },
      "execution_count": null,
      "outputs": []
    },
    {
      "cell_type": "code",
      "source": [
        "df_venue = spark.read.load(\"ipl_venue.csv\",\n",
        "                     format=\"csv\", sep=\",\", inferSchema=\"true\", header=\"true\")"
      ],
      "metadata": {
        "id": "nBAvWX_hOkQO"
      },
      "execution_count": null,
      "outputs": []
    },
    {
      "cell_type": "code",
      "source": [
        "df_matches = spark.read.load(\"ipl_matches.csv\",\n",
        "                     format=\"csv\", sep=\",\", inferSchema=\"true\", header=\"true\")"
      ],
      "metadata": {
        "id": "P4fNUtKpPXQe"
      },
      "execution_count": null,
      "outputs": []
    },
    {
      "cell_type": "code",
      "source": [
        "df_ball_by_ball = spark.read.load(\"ipl_ball_by_ball.csv\",\n",
        "                     format=\"csv\", sep=\",\", inferSchema=\"true\", header=\"true\")"
      ],
      "metadata": {
        "id": "ngOE8ULePmgQ"
      },
      "execution_count": null,
      "outputs": []
    },
    {
      "cell_type": "code",
      "source": [
        "df_matches_with_venue = df_matches.join(df_venue,\"venue_id\")"
      ],
      "metadata": {
        "id": "z38OenTzTqQs"
      },
      "execution_count": null,
      "outputs": []
    },
    {
      "cell_type": "code",
      "source": [
        "from pyspark.sql.functions import *"
      ],
      "metadata": {
        "id": "aeuOG3WSehpr"
      },
      "execution_count": null,
      "outputs": []
    },
    {
      "cell_type": "code",
      "source": [
        "df_topeliminator_venue = df_matches_with_venue.where(df_matches_with_venue.eliminator == \"Y\").groupBy('venue','venue_id').count().sort(desc(\"count\")).show(3)"
      ],
      "metadata": {
        "colab": {
          "base_uri": "https://localhost:8080/"
        },
        "id": "GadYcJ2dR6Bt",
        "outputId": "b2c793ad-b281-4159-b481-7b931420af0b"
      },
      "execution_count": null,
      "outputs": [
        {
          "output_type": "stream",
          "name": "stdout",
          "text": [
            "+--------------------+--------+-----+\n",
            "|               venue|venue_id|count|\n",
            "+--------------------+--------+-----+\n",
            "|Dubai Internation...|      25|    3|\n",
            "|Sheikh Zayed Stadium|      38|    2|\n",
            "|Sardar Patel Stad...|      37|    1|\n",
            "+--------------------+--------+-----+\n",
            "only showing top 3 rows\n",
            "\n"
          ]
        }
      ]
    },
    {
      "cell_type": "code",
      "source": [
        "df_ball_by_ball.where(df_ball_by_ball.dismissal_kind == \"caught\").groupBy(\"fielder\").count().sort(desc(\"count\")).show(1)"
      ],
      "metadata": {
        "colab": {
          "base_uri": "https://localhost:8080/"
        },
        "id": "0eLrndeQZobj",
        "outputId": "6f7e44f4-845a-4449-addf-4f0d6e396255"
      },
      "execution_count": null,
      "outputs": [
        {
          "output_type": "stream",
          "name": "stdout",
          "text": [
            "+----------+-----+\n",
            "|   fielder|count|\n",
            "+----------+-----+\n",
            "|KD Karthik|  118|\n",
            "+----------+-----+\n",
            "only showing top 1 row\n",
            "\n"
          ]
        }
      ]
    },
    {
      "cell_type": "code",
      "source": [
        "df_highestwkt_dl = df_ball_by_ball.join(df_matches,\"match_id\")"
      ],
      "metadata": {
        "id": "OnjSTpkQiv2s"
      },
      "execution_count": null,
      "outputs": []
    },
    {
      "cell_type": "code",
      "source": [
        "df_highestwkt_dl.where(df_highestwkt_dl.method == \"D/L\").where(df_highestwkt_dl.is_wicket == \"1\").groupBy(\"bowler\").count().sort(desc(\"count\")).show(1)"
      ],
      "metadata": {
        "colab": {
          "base_uri": "https://localhost:8080/"
        },
        "id": "FPz4rfQQkRcK",
        "outputId": "73fcb9ba-24f0-4e93-99fa-5a66fc846309"
      },
      "execution_count": null,
      "outputs": [
        {
          "output_type": "stream",
          "name": "stdout",
          "text": [
            "+--------+-----+\n",
            "|  bowler|count|\n",
            "+--------+-----+\n",
            "|R Ashwin|    8|\n",
            "+--------+-----+\n",
            "only showing top 1 row\n",
            "\n"
          ]
        }
      ]
    },
    {
      "cell_type": "code",
      "source": [
        "df_nonpwrply = df_ball_by_ball.where(df_ball_by_ball.overs > \"6\").where(df_ball_by_ball.extra_runs == \"0\")"
      ],
      "metadata": {
        "id": "XjHF40XFnble"
      },
      "execution_count": null,
      "outputs": []
    },
    {
      "cell_type": "code",
      "source": [
        "legal=df_ball_by_ball[(~df_ball_by_ball['extras_type'].isin(['wides', 'noballs'])) & (df_ball_by_ball['overs'].between(7,20))]\n",
        "runs=legal.groupBy('batsman').sum('batsman_runs')\n",
        "ball=legal.groupby('batsman').count()\n",
        "balls=ball.withColumnRenamed(\"batsman\",\"batsman_1\")"
      ],
      "metadata": {
        "id": "wqhYR6W4pgRX"
      },
      "execution_count": null,
      "outputs": []
    },
    {
      "cell_type": "code",
      "source": [
        "joined=balls.join(runs, balls.batsman_1 == runs.batsman, 'inner')\n",
        "result_4=joined.withColumn(\"Strike rate\", col(\"sum(batsman_runs)\")*100/col(\"count\")).sort('Strike rate',ascending=False)\n",
        "result_4.select('batsman','Strike rate').show(10)"
      ],
      "metadata": {
        "colab": {
          "base_uri": "https://localhost:8080/"
        },
        "id": "sp9sfMhwLIv6",
        "outputId": "67b1c1c9-2062-49df-99c2-22f3f6705bb7"
      },
      "execution_count": null,
      "outputs": [
        {
          "output_type": "stream",
          "name": "stdout",
          "text": [
            "+------------+------------------+\n",
            "|     batsman|       Strike rate|\n",
            "+------------+------------------+\n",
            "|  B Stanlake|             250.0|\n",
            "|Kamran Akmal|213.88888888888889|\n",
            "|  ER Dwivedi|211.11111111111111|\n",
            "|    Umar Gul|205.26315789473685|\n",
            "| AC Blizzard|             200.0|\n",
            "|    RS Sodhi|             200.0|\n",
            "|    W Jaffer|             188.0|\n",
            "|   DJM Short|187.09677419354838|\n",
            "|   LJ Wright|             186.0|\n",
            "|  AD Russell|181.85185185185185|\n",
            "+------------+------------------+\n",
            "only showing top 10 rows\n",
            "\n"
          ]
        }
      ]
    },
    {
      "cell_type": "code",
      "source": [
        "df = spark.read.csv('ipl_ball_by_ball.csv',header=True)\n",
        "df1 = spark.read.csv('ipl_matches.csv',header=True)\n",
        "df2 = spark.read.csv('ipl_venue.csv',header=True)"
      ],
      "metadata": {
        "id": "P2addyLBRhv3"
      },
      "execution_count": null,
      "outputs": []
    },
    {
      "cell_type": "code",
      "source": [
        "df.createOrReplaceTempView(\"balls\")\n",
        "spark.sql(\n",
        "\"\"\"\n",
        "select * from balls\n",
        "\"\"\"\n",
        ")\n",
        "\n",
        "df1.createOrReplaceTempView(\"matches\")\n",
        "spark.sql(\n",
        "\"\"\"\n",
        "select * from matches\n",
        "\"\"\"\n",
        ")\n",
        "\n",
        "df2.createOrReplaceTempView(\"venue\")\n",
        "spark.sql(\n",
        "\"\"\"\n",
        "select * from venue\n",
        "\"\"\"\n",
        ")"
      ],
      "metadata": {
        "colab": {
          "base_uri": "https://localhost:8080/"
        },
        "id": "ruXXgK3HRNi3",
        "outputId": "e11c9777-95c4-4f9e-f215-d9e961cba1b6"
      },
      "execution_count": null,
      "outputs": [
        {
          "output_type": "execute_result",
          "data": {
            "text/plain": [
              "DataFrame[venue_id: string, venue: string, city: string]"
            ]
          },
          "metadata": {},
          "execution_count": 56
        }
      ]
    },
    {
      "cell_type": "code",
      "source": [
        "spark.sql(\n",
        "\"\"\"\n",
        "select player_of_match,count(player_of_match) from matches\n",
        "where neutral_venue = 1\n",
        "group by player_of_match\n",
        "order by count(player_of_match) desc \n",
        "\"\"\").show()"
      ],
      "metadata": {
        "colab": {
          "base_uri": "https://localhost:8080/"
        },
        "id": "Njo5VekfQq97",
        "outputId": "972e5b99-4a8d-4438-fca0-6cb6553ca507"
      },
      "execution_count": null,
      "outputs": [
        {
          "output_type": "stream",
          "name": "stdout",
          "text": [
            "+----------------+----------------------+\n",
            "| player_of_match|count(player_of_match)|\n",
            "+----------------+----------------------+\n",
            "|       YK Pathan|                     3|\n",
            "|      GJ Maxwell|                     3|\n",
            "|       JP Duminy|                     3|\n",
            "|       JH Kallis|                     3|\n",
            "|       ML Hayden|                     2|\n",
            "|  AB de Villiers|                     2|\n",
            "|  Sandeep Sharma|                     2|\n",
            "|    SR Tendulkar|                     2|\n",
            "|        DR Smith|                     2|\n",
            "|    Yuvraj Singh|                     2|\n",
            "|   KC Sangakkara|                     2|\n",
            "|       RG Sharma|                     2|\n",
            "|DPMD Jayawardene|                     2|\n",
            "|  M Muralitharan|                     2|\n",
            "|       MK Pandey|                     2|\n",
            "|        SK Raina|                     2|\n",
            "|     LRPL Taylor|                     2|\n",
            "|    AC Gilchrist|                     2|\n",
            "|         A Singh|                     1|\n",
            "|        V Sehwag|                     1|\n",
            "+----------------+----------------------+\n",
            "only showing top 20 rows\n",
            "\n"
          ]
        }
      ]
    },
    {
      "cell_type": "code",
      "source": [
        "from pyspark.sql.types import IntegerType\n",
        "df = df.withColumn(\"is_wicket\", df[\"is_wicket\"].cast(IntegerType()))\n",
        "df = df.withColumn(\"batsman_runs\", df[\"batsman_runs\"].cast(IntegerType()))\n",
        "df = df.withColumn(\"extra_runs\", df[\"extra_runs\"].cast(IntegerType()))\n",
        "df = df.withColumn(\"total_runs\", df[\"total_runs\"].cast(IntegerType()))"
      ],
      "metadata": {
        "id": "XtARS7TgWjcF"
      },
      "execution_count": null,
      "outputs": []
    },
    {
      "cell_type": "code",
      "source": [
        "player_dismissed=df.groupby('player_dismissed').count()\n",
        "total_runs=df.groupBy('batsman').sum('batsman_runs')\n",
        "joined_data=player_dismissed.join(total_runs, player_dismissed.player_dismissed == total_runs.batsman, 'inner')"
      ],
      "metadata": {
        "id": "GWTMkU3jSj_6"
      },
      "execution_count": null,
      "outputs": []
    },
    {
      "cell_type": "code",
      "source": [
        "result_7=joined_data.withColumn(\"Batsmen Avg\", col(\"sum(batsman_runs)\")/col(\"count\")).sort('Batsmen Avg',ascending=False)\n",
        "result_7.select('batsman','Batsmen Avg').show(10)"
      ],
      "metadata": {
        "colab": {
          "base_uri": "https://localhost:8080/"
        },
        "id": "RSTRiw1DWnPm",
        "outputId": "10c2e0cd-4b81-463d-8361-c4d4250394f8"
      },
      "execution_count": null,
      "outputs": [
        {
          "output_type": "stream",
          "name": "stdout",
          "text": [
            "+-------------+------------------+\n",
            "|      batsman|       Batsmen Avg|\n",
            "+-------------+------------------+\n",
            "|   MN van Wyk|55.666666666666664|\n",
            "|   RD Gaikwad|              51.0|\n",
            "|     AC Voges|             45.25|\n",
            "|     KL Rahul| 44.86440677966102|\n",
            "|      HM Amla| 44.38461538461539|\n",
            "|Iqbal Abdulla|              44.0|\n",
            "|    DA Warner| 42.71544715447155|\n",
            "|  JM Bairstow|41.578947368421055|\n",
            "|     CH Gayle| 41.13793103448276|\n",
            "|     MS Dhoni|40.991150442477874|\n",
            "+-------------+------------------+\n",
            "only showing top 10 rows\n",
            "\n"
          ]
        }
      ]
    },
    {
      "cell_type": "code",
      "source": [
        "spark.sql(\n",
        "\"\"\"\n",
        "select umpire, count(*)\n",
        "from ((select umpire1 as umpire from matches) union all\n",
        "      (select umpire2 from matches)\n",
        "     ) matches\n",
        "group by umpire\n",
        "order by count(*) desc ;\n",
        "\"\"\").show()"
      ],
      "metadata": {
        "colab": {
          "base_uri": "https://localhost:8080/"
        },
        "id": "FSRRZBw6XOT9",
        "outputId": "17b6e21d-b471-4dbc-dc8a-c48fdf8f11d3"
      },
      "execution_count": null,
      "outputs": [
        {
          "output_type": "stream",
          "name": "stdout",
          "text": [
            "+--------------------+--------+\n",
            "|              umpire|count(1)|\n",
            "+--------------------+--------+\n",
            "|              S Ravi|     121|\n",
            "|     HDPK Dharmasena|      94|\n",
            "|        AK Chaudhary|      87|\n",
            "|       C Shamshuddin|      82|\n",
            "|           M Erasmus|      65|\n",
            "|           CK Nandan|      57|\n",
            "|         Nitin Menon|      57|\n",
            "|          SJA Taufel|      55|\n",
            "|           Asad Rauf|      51|\n",
            "|         VA Kulkarni|      50|\n",
            "|        BNJ Oxenford|      48|\n",
            "|         CB Gaffaney|      47|\n",
            "|           RJ Tucker|      46|\n",
            "|         BR Doctrove|      42|\n",
            "|         RE Koertzen|      41|\n",
            "|           Aleem Dar|      38|\n",
            "|           BF Bowden|      37|\n",
            "|            NJ Llong|      37|\n",
            "|KN Ananthapadmana...|      33|\n",
            "|      RK Illingworth|      31|\n",
            "+--------------------+--------+\n",
            "only showing top 20 rows\n",
            "\n"
          ]
        }
      ]
    },
    {
      "cell_type": "code",
      "source": [
        "spark.sql(\n",
        "\"\"\"\n",
        "select m.match_id,first(v.venue),first(v.city),sum(b.batsman_runs) from balls as b\n",
        "inner join matches as m on b.match_id=m.match_id\n",
        "inner join venue as v on m.venue_id =v.venue_id\n",
        "where b.batsman= 'V Kohli'\n",
        "group by m.match_id\n",
        "order by sum(b.batsman_runs) desc limit 1; \n",
        "\"\"\").show()"
      ],
      "metadata": {
        "colab": {
          "base_uri": "https://localhost:8080/"
        },
        "id": "-c586vkPXYZu",
        "outputId": "7ed555df-4130-41d1-fc75-104de702adb5"
      },
      "execution_count": null,
      "outputs": [
        {
          "output_type": "stream",
          "name": "stdout",
          "text": [
            "+--------+--------------------+-----------+---------------------------------+\n",
            "|match_id|        first(venue)|first(city)|sum(CAST(batsman_runs AS DOUBLE))|\n",
            "+--------+--------------------+-----------+---------------------------------+\n",
            "|  980999|M.Chinnaswamy Sta...|  Bengaluru|                            113.0|\n",
            "+--------+--------------------+-----------+---------------------------------+\n",
            "\n"
          ]
        }
      ]
    },
    {
      "cell_type": "code",
      "source": [
        "class Database:\n",
        "  def __init__(self, appName = \"Data\"):\n",
        "    self.spark = (SparkSession\n",
        "    .builder\n",
        "    .appName(appName)\n",
        "    .getOrCreate())\n",
        "    try:\n",
        "      self.df_matches = spark.read.load(\"ipl_matches.csv\",format=\"csv\", sep=\",\", inferSchema=\"true\", header=\"true\")\n",
        "    except:\n",
        "      print(\"Dataset not found - kindly upload dataset to colab notebook\")\n",
        "    self.df_ball_by_ball = spark.read.load(\"ipl_ball_by_ball.csv\",format=\"csv\", sep=\",\", inferSchema=\"true\", header=\"true\")\n",
        "    self.df_venue = spark.read.load(\"ipl_venue.csv\",format=\"csv\", sep=\",\", inferSchema=\"true\", header=\"true\")\n",
        "    self.df = spark.read.csv('ipl_ball_by_ball.csv',header=True)\n",
        "    self.df1 = spark.read.csv('ipl_matches.csv',header=True)\n",
        "    self.df2 = spark.read.csv('ipl_venue.csv',header=True)\n",
        "  def get_query1_result(self):\n",
        "    self.df_topeliminator_venue = df_matches_with_venue.where(df_matches_with_venue.eliminator == \"Y\").groupBy('venue','venue_id').count().sort(desc(\"count\")).show(3)\n",
        "  \n",
        "  def get_query2_result(self):\n",
        "    self.df_ball_by_ball.where(df_ball_by_ball.dismissal_kind == \"caught\").groupBy(\"fielder\").count().sort(desc(\"count\")).show(1)\n",
        "  "
      ],
      "metadata": {
        "id": "D1tZWzyncuhp"
      },
      "execution_count": null,
      "outputs": []
    },
    {
      "cell_type": "code",
      "source": [
        "db.get_query1_result()"
      ],
      "metadata": {
        "colab": {
          "base_uri": "https://localhost:8080/"
        },
        "id": "3L0vRDaEnYwo",
        "outputId": "950d787f-204f-4335-93b1-4a60ad574a40"
      },
      "execution_count": null,
      "outputs": [
        {
          "output_type": "stream",
          "name": "stdout",
          "text": [
            "+--------------------+--------+-----+\n",
            "|               venue|venue_id|count|\n",
            "+--------------------+--------+-----+\n",
            "|Dubai Internation...|      25|    3|\n",
            "|Sheikh Zayed Stadium|      38|    2|\n",
            "|            Newlands|      33|    1|\n",
            "+--------------------+--------+-----+\n",
            "only showing top 3 rows\n",
            "\n"
          ]
        }
      ]
    }
  ]
}